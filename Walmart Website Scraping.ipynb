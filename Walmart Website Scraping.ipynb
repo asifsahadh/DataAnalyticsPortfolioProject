{
 "cells": [
  {
   "cell_type": "markdown",
   "id": "1ffb8889",
   "metadata": {},
   "source": [
    "#### Importing Libraries"
   ]
  },
  {
   "cell_type": "code",
   "execution_count": 1,
   "id": "da868d3b",
   "metadata": {},
   "outputs": [],
   "source": [
    "from bs4 import BeautifulSoup\n",
    "import requests\n",
    "import time\n",
    "import datetime\n",
    "import re\n",
    "import smtplib\n",
    "import pandas as pd\n",
    "import csv"
   ]
  },
  {
   "cell_type": "markdown",
   "id": "ffdbccc6",
   "metadata": {},
   "source": [
    "#### Connecting to the Website"
   ]
  },
  {
   "cell_type": "code",
   "execution_count": 2,
   "id": "a355f0df",
   "metadata": {},
   "outputs": [],
   "source": [
    "url = \"https://www.walmart.com/ip/2021-Apple-10-2-inch-iPad-Wi-Fi-64GB-Space-Gray-9th-Generation/483978365?athcpid=483978365&athpgid=AthenaContentPage_3944&athcgid=null&athznid=ItemCarousel_94d9db9e-8b44-4cfc-804a-a52bbfe046b7_items&athieid=v0&athstid=CS020&athguid=i8Nis97VyGEsuaqkGsHPKFy5MuDZKYd6LgC3&athancid=null&athena=true&athbdg=L1300\"\n",
    "headers = {\"User-Agent\": \"Mozilla/5.0 (Windows NT 10.0; Win64; x64) AppleWebKit/537.36 (KHTML, like Gecko) Chrome/120.0.0.0 Safari/537.36\"}\n",
    "page = requests.get(url, headers = headers)\n",
    "soup1 = BeautifulSoup(page.content, \"html.parser\")\n",
    "soup2 = BeautifulSoup(soup1.prettify(), \"html.parser\")"
   ]
  },
  {
   "cell_type": "markdown",
   "id": "85d0f91d",
   "metadata": {},
   "source": [
    "#### Extracting the Data "
   ]
  },
  {
   "cell_type": "code",
   "execution_count": 3,
   "id": "18a317dc",
   "metadata": {},
   "outputs": [
    {
     "name": "stdout",
     "output_type": "stream",
     "text": [
      "\n",
      "                   2021 Apple 10.2-inch iPad Wi-Fi 64GB - Space Gray (9th Generation)\n",
      "                  \n",
      "\n",
      "\n",
      "                     Now $249.00\n",
      "                    \n",
      "\n"
     ]
    }
   ],
   "source": [
    "title = soup2.find(id = \"main-title\").get_text()\n",
    "price_desc = soup2.find(class_ = \"inline-flex flex-column\").get_text()\n",
    "\n",
    "print(title)\n",
    "print(price_desc)"
   ]
  },
  {
   "cell_type": "markdown",
   "id": "38dcf6f5",
   "metadata": {},
   "source": [
    "#### Cleaning the Data"
   ]
  },
  {
   "cell_type": "code",
   "execution_count": 4,
   "id": "e8abf9a1",
   "metadata": {},
   "outputs": [
    {
     "name": "stdout",
     "output_type": "stream",
     "text": [
      "2021 Apple 10.2-inch iPad Wi-Fi 64GB - Space Gray (9th Generation)\n",
      "249.00\n"
     ]
    }
   ],
   "source": [
    "price = price_desc.strip()\n",
    "price = price.replace('Now $', '')\n",
    "title = title.strip()\n",
    "\n",
    "print(title)\n",
    "print(price)"
   ]
  },
  {
   "cell_type": "markdown",
   "id": "b927fa43",
   "metadata": {},
   "source": [
    "#### Saving the Data into Excel"
   ]
  },
  {
   "cell_type": "code",
   "execution_count": 5,
   "id": "180cfbd9",
   "metadata": {},
   "outputs": [],
   "source": [
    "today = datetime.date.today()\n",
    "\n",
    "header = ['Title', 'Price', 'Date']\n",
    "data = [title, price, today]\n",
    "\n",
    "with open('WalmartWebScrapedDataset.csv', 'w', newline = '', encoding = 'UTF8') as f:\n",
    "    writer = csv.writer(f)\n",
    "    writer.writerow(header)\n",
    "    writer.writerow(data)"
   ]
  },
  {
   "cell_type": "markdown",
   "id": "b68d83e0",
   "metadata": {},
   "source": [
    "#### Viewing the Dataset using Pandas"
   ]
  },
  {
   "cell_type": "code",
   "execution_count": 6,
   "id": "65f863f2",
   "metadata": {},
   "outputs": [
    {
     "name": "stdout",
     "output_type": "stream",
     "text": [
      "                                               Title  Price        Date\n",
      "0  2021 Apple 10.2-inch iPad Wi-Fi 64GB - Space G...  249.0  2023-12-28\n"
     ]
    }
   ],
   "source": [
    "df = pd.read_csv(r\"C:\\Users\\asifs\\Desktop\\Python & Pandas Files\\Python Codes\\WalmartWebScrapedDataset.csv\")\n",
    "print(df)"
   ]
  },
  {
   "cell_type": "markdown",
   "id": "6b2c6792",
   "metadata": {},
   "source": [
    "#### Function to Automate Data Transfer"
   ]
  },
  {
   "cell_type": "code",
   "execution_count": 7,
   "id": "6921d842",
   "metadata": {},
   "outputs": [],
   "source": [
    "def automatic_price_check():\n",
    "    url = \"https://www.walmart.com/ip/2021-Apple-10-2-inch-iPad-Wi-Fi-64GB-Space-Gray-9th-Generation/483978365?athcpid=483978365&athpgid=AthenaContentPage_3944&athcgid=null&athznid=ItemCarousel_94d9db9e-8b44-4cfc-804a-a52bbfe046b7_items&athieid=v0&athstid=CS020&athguid=i8Nis97VyGEsuaqkGsHPKFy5MuDZKYd6LgC3&athancid=null&athena=true&athbdg=L1300\"\n",
    "    headers = {\"User-Agent\": \"Mozilla/5.0 (Windows NT 10.0; Win64; x64) AppleWebKit/537.36 (KHTML, like Gecko) Chrome/120.0.0.0 Safari/537.36\"}\n",
    "    page = requests.get(url, headers = headers)\n",
    "    soup1 = BeautifulSoup(page.content, \"html.parser\")\n",
    "    soup2 = BeautifulSoup(soup1.prettify(), \"html.parser\")\n",
    "\n",
    "    title = soup2.find(id = \"main-title\").get_text()\n",
    "    price_desc = soup2.find(class_ = \"inline-flex flex-column\").get_text()\n",
    "    \n",
    "    price = price_desc.strip()\n",
    "    price = price.replace('Now $', '')\n",
    "    title = title.strip()\n",
    "    \n",
    "    import datetime\n",
    "    today = datetime.date.today()\n",
    "    \n",
    "    import csv\n",
    "    header = ['Title', 'Price', 'Date']\n",
    "    data = [title, price, today]\n",
    "\n",
    "    with open('WalmartWebScrapedDataset.csv', 'a+', newline = '', encoding = 'UTF8') as f:\n",
    "        writer = csv.writer(f)\n",
    "        writer.writerow(data)"
   ]
  },
  {
   "cell_type": "markdown",
   "id": "4ce9021c",
   "metadata": {},
   "source": [
    "#### Executing the Autimation Function"
   ]
  },
  {
   "cell_type": "code",
   "execution_count": null,
   "id": "f1af5da8",
   "metadata": {},
   "outputs": [],
   "source": [
    "while(True):\n",
    "    automatic_price_check()\n",
    "    time.sleep(86400)"
   ]
  }
 ],
 "metadata": {
  "kernelspec": {
   "display_name": "Python 3 (ipykernel)",
   "language": "python",
   "name": "python3"
  },
  "language_info": {
   "codemirror_mode": {
    "name": "ipython",
    "version": 3
   },
   "file_extension": ".py",
   "mimetype": "text/x-python",
   "name": "python",
   "nbconvert_exporter": "python",
   "pygments_lexer": "ipython3",
   "version": "3.9.7"
  }
 },
 "nbformat": 4,
 "nbformat_minor": 5
}
